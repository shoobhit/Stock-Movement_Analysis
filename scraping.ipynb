{
 "cells": [
  {
   "cell_type": "code",
   "execution_count": 1,
   "id": "684f9b96-a59f-4e41-aa50-9d9a72ae9f1d",
   "metadata": {},
   "outputs": [
    {
     "name": "stdout",
     "output_type": "stream",
     "text": [
      "Requirement already satisfied: praw in c:\\users\\asus\\anaconda3\\lib\\site-packages (7.8.1)\n",
      "Requirement already satisfied: prawcore<3,>=2.4 in c:\\users\\asus\\anaconda3\\lib\\site-packages (from praw) (2.4.0)\n",
      "Requirement already satisfied: update_checker>=0.18 in c:\\users\\asus\\anaconda3\\lib\\site-packages (from praw) (0.18.0)\n",
      "Requirement already satisfied: websocket-client>=0.54.0 in c:\\users\\asus\\anaconda3\\lib\\site-packages (from praw) (1.8.0)\n",
      "Requirement already satisfied: requests<3.0,>=2.6.0 in c:\\users\\asus\\appdata\\roaming\\python\\python312\\site-packages (from prawcore<3,>=2.4->praw) (2.32.3)\n",
      "Requirement already satisfied: charset-normalizer<4,>=2 in c:\\users\\asus\\appdata\\roaming\\python\\python312\\site-packages (from requests<3.0,>=2.6.0->prawcore<3,>=2.4->praw) (3.4.0)\n",
      "Requirement already satisfied: idna<4,>=2.5 in c:\\users\\asus\\appdata\\roaming\\python\\python312\\site-packages (from requests<3.0,>=2.6.0->prawcore<3,>=2.4->praw) (3.10)\n",
      "Requirement already satisfied: urllib3<3,>=1.21.1 in c:\\users\\asus\\appdata\\roaming\\python\\python312\\site-packages (from requests<3.0,>=2.6.0->prawcore<3,>=2.4->praw) (2.2.3)\n",
      "Requirement already satisfied: certifi>=2017.4.17 in c:\\users\\asus\\appdata\\roaming\\python\\python312\\site-packages (from requests<3.0,>=2.6.0->prawcore<3,>=2.4->praw) (2024.8.30)\n"
     ]
    }
   ],
   "source": [
    "!pip install praw"
   ]
  },
  {
   "cell_type": "code",
   "execution_count": 3,
   "id": "430187ec-b785-448d-b3dc-727d739b7cb2",
   "metadata": {},
   "outputs": [
    {
     "name": "stdout",
     "output_type": "stream",
     "text": [
      "                                               Title  \\\n",
      "0                                     Portfolio Talk   \n",
      "1  If you had to start again today and could only...   \n",
      "2                                     Shorting Tesla   \n",
      "3             Nordstrom’s chances of going private?    \n",
      "4                Best strategy for investing in SPY:   \n",
      "\n",
      "                                                Text  Score  Comments  \\\n",
      "0  Hello all, after months of my own research I'v...      3         0   \n",
      "1  If you had to start again today and could only...      4        18   \n",
      "2  Tesla went up almost 50% after Trump won elect...     16       184   \n",
      "3  The family wants to take it private for $23/sh...      8         5   \n",
      "4  I decided to explore this by testing three dif...     20        38   \n",
      "\n",
      "        Created  \n",
      "0  1.733682e+09  \n",
      "1  1.733682e+09  \n",
      "2  1.733670e+09  \n",
      "3  1.733653e+09  \n",
      "4  1.733627e+09  \n"
     ]
    }
   ],
   "source": [
    "import praw\n",
    "import pandas as pd\n",
    "\n",
    "# Authenticate with Reddit API\n",
    "reddit = praw.Reddit(\n",
    "    client_id='9dIZh9kUGpIMB44JbDZRFw',\n",
    "    client_secret='39T45keb1CaVB5xm-gwV7oSjxsWpTg',\n",
    "    user_agent='Stocks'\n",
    ")\n",
    "\n",
    "# Function to scrape subreddit posts\n",
    "def scrape_reddit(subreddit_name, limit):\n",
    "    subreddit = reddit.subreddit(subreddit_name)\n",
    "    posts = []\n",
    "    for post in subreddit.new(limit=limit):\n",
    "        posts.append({'Title': post.title, 'Text': post.selftext, 'Score': post.score, 'Comments': post.num_comments, 'Created': post.created_utc})\n",
    "    return pd.DataFrame(posts)\n",
    "\n",
    "\n",
    "reddit_data = scrape_reddit(\"stocks\", 2000)\n",
    "print(reddit_data.head())\n",
    "reddit_data.to_csv(\"redditData.csv\", index=False)\n"
   ]
  },
  {
   "cell_type": "code",
   "execution_count": null,
   "id": "262d2ded-4089-4ec7-ae56-b025c9f8cf1e",
   "metadata": {},
   "outputs": [],
   "source": []
  }
 ],
 "metadata": {
  "kernelspec": {
   "display_name": "Python 3 (ipykernel)",
   "language": "python",
   "name": "python3"
  },
  "language_info": {
   "codemirror_mode": {
    "name": "ipython",
    "version": 3
   },
   "file_extension": ".py",
   "mimetype": "text/x-python",
   "name": "python",
   "nbconvert_exporter": "python",
   "pygments_lexer": "ipython3",
   "version": "3.12.4"
  }
 },
 "nbformat": 4,
 "nbformat_minor": 5
}
